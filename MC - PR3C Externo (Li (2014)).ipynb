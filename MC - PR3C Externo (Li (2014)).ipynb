{
 "cells": [
  {
   "cell_type": "markdown",
   "metadata": {},
   "source": [
    "# Planeta circunbinario\n",
    "\n",
    "Seguimos el paper de Li et al. (2014), donde él obtiene soluciones analíticas para elementos orbitales con un Hamiltoniano cuadrupolar\n",
    "\n",
    "\n",
    "De esas soluciones, ellos obtienen expresiones para el período de h2 ($\\Omega_2$) y g2 ($\\omega_2$), y queremos reproducir la Fig. 2, donde enfrenta $P_{h2}$ y $P_{g2}$ vs F\n",
    "\n",
    "#### El tema es que el paper no da expresión explícita para $P_{g2}$, y por eso en este notebook nos restringimos a $P_{h2}$"
   ]
  },
  {
   "cell_type": "code",
   "execution_count": 42,
   "metadata": {},
   "outputs": [],
   "source": [
    "import rebound\n",
    "import numpy as np\n",
    "import matplotlib.pyplot as plt\n",
    "from mpl_toolkits.axes_grid1 import make_axes_locatable\n",
    "from scipy import special\n",
    "\n",
    "pi = -4*np.arctan(-1)\n",
    "\n",
    "G = 3.963644418946e-14        # AU^3 Msol^-1 s^-2\n",
    "\n",
    "G = 0.01720209895**2          # AU^3 Msol^-1 dias^-2"
   ]
  },
  {
   "cell_type": "markdown",
   "metadata": {},
   "source": [
    "Probamos que funciona la función elíptica que deberemos aplicar más adelante"
   ]
  },
  {
   "cell_type": "code",
   "execution_count": 35,
   "metadata": {},
   "outputs": [
    {
     "data": {
      "text/plain": [
       "1.5707963267948966"
      ]
     },
     "execution_count": 35,
     "metadata": {},
     "output_type": "execute_result"
    }
   ],
   "source": [
    "sp.special.ellipk(0)"
   ]
  },
  {
   "cell_type": "markdown",
   "metadata": {},
   "source": [
    "### Definimos $P_{h2}$ para circulación y para libración"
   ]
  },
  {
   "cell_type": "code",
   "execution_count": 51,
   "metadata": {},
   "outputs": [],
   "source": [
    "def Ph2_c(m1,e1,a1,m2,e2,a2,F):         # CIRCULACION 2.12\n",
    "    \n",
    "    # Unidades en unidades astronomicas, masas solares y dias\n",
    "    \n",
    "    a = np.sqrt(np.abs(F - 1 + e1*e1)/(1- e1*e1))\n",
    "    b = np.sqrt((1+ 4*e1*e1 - F)/(1+ 4*e1*e1))\n",
    "    \n",
    "    alfa = a1/a2\n",
    "    \n",
    "    T1 = np.sqrt((a1**3)*4*pi*pi/(G*(m1+m2)))\n",
    "    \n",
    "    cte = 8*((m1 + m2)**2)/(3*(alfa**(7/2))*m1*m2*b)\n",
    "    k = np.sqrt(1- (a/b)**2)\n",
    "    \n",
    "    K = sp.special.ellipk(k)\n",
    "    \n",
    "    f = cte*((1- e2**2)**2)*K*T1/(np.sqrt((1- e1**2)*(1+ 4*e1*e1)))\n",
    "    \n",
    "    return(f)"
   ]
  },
  {
   "cell_type": "code",
   "execution_count": 89,
   "metadata": {},
   "outputs": [],
   "source": [
    "def Ph2_l(m1,e1,a1,m2,e2,a2,F):           # LIBRACION 2.15\n",
    "    \n",
    "    # Unidades en unidades astronomicas, masas solares y dias\n",
    "    \n",
    "    a = np.sqrt(np.abs(F - 1 + e1*e1)/(1- e1*e1))\n",
    "    b = np.sqrt((1+ 4*e1*e1 - F)/(1+ 4*e1*e1))\n",
    "    \n",
    "    alfa = a1/a2\n",
    "    \n",
    "    T1 = np.sqrt((a1**3)*4*pi*pi/(G*(m1+m2)))\n",
    "    \n",
    "    cte = 16*((m1 + m2)**2)/(3*(5**0.5)*(alfa**(7/2))*m1*m2*b)\n",
    "    k = np.sqrt((b**2)/(a*a + b*b))\n",
    "           \n",
    "    K = sp.special.ellipk(k)    \n",
    "        \n",
    "    f = cte*((1- e2**2)**2)*K*T1/((e1)*(F**0.5))\n",
    "    \n",
    "    return(f)"
   ]
  },
  {
   "cell_type": "code",
   "execution_count": 90,
   "metadata": {},
   "outputs": [],
   "source": [
    "def P(m1,e1,a1,m2,e2,a2,F):\n",
    "    Fsep = (1 - e1*e1)\n",
    "    \n",
    "    if (F<Fsep):\n",
    "        f = Ph2_c(m1,e1,a1,m2,e2,a2,F)\n",
    "    else:\n",
    "        f = Ph2_l(m1,e1,a1,m2,e2,a2,F)\n",
    "    \n",
    "    return(f)"
   ]
  },
  {
   "cell_type": "markdown",
   "metadata": {},
   "source": [
    "### PARÁMETROS"
   ]
  },
  {
   "cell_type": "code",
   "execution_count": 104,
   "metadata": {},
   "outputs": [],
   "source": [
    "m1 = 0.9\n",
    "m2 = 0.57\n",
    "a1 = 0.19\n",
    "e1 = 0.23\n",
    "a2 = 0.71\n",
    "e2 = 0.06\n",
    "\n",
    "Fsep = 1 - e1*e1"
   ]
  },
  {
   "cell_type": "markdown",
   "metadata": {},
   "source": [
    "### HAMILTONIANO"
   ]
  },
  {
   "cell_type": "code",
   "execution_count": 92,
   "metadata": {},
   "outputs": [],
   "source": [
    "def F(e1,nodo2,inc2):\n",
    "    f = (1 - e1*e1 + 5*e1*e1*(np.sin(nodo2)**2))*(np.sin(inc2)**2)\n",
    "    return(f)"
   ]
  },
  {
   "cell_type": "markdown",
   "metadata": {},
   "source": [
    "# Hay un problemita que es que para F = 0, ambos períodos (de lib. y de circ.) deberían ser iguales, pero eso no sucede"
   ]
  },
  {
   "cell_type": "code",
   "execution_count": 93,
   "metadata": {},
   "outputs": [
    {
     "data": {
      "text/plain": [
       "112.67883659977747"
      ]
     },
     "execution_count": 93,
     "metadata": {},
     "output_type": "execute_result"
    }
   ],
   "source": [
    "Ph2_c(m1,e1,a1,m2,e2,a2,0.)/365.25"
   ]
  },
  {
   "cell_type": "code",
   "execution_count": 94,
   "metadata": {},
   "outputs": [
    {
     "name": "stderr",
     "output_type": "stream",
     "text": [
      "/home/administrador/anaconda2/envs/venv/lib/python3.7/site-packages/ipykernel_launcher.py:17: RuntimeWarning: divide by zero encountered in double_scalars\n"
     ]
    },
    {
     "data": {
      "text/plain": [
       "inf"
      ]
     },
     "execution_count": 94,
     "metadata": {},
     "output_type": "execute_result"
    }
   ],
   "source": [
    "Ph2_l(m1,e1,a1,m2,e2,a2,0.)/365.25"
   ]
  },
  {
   "cell_type": "markdown",
   "metadata": {},
   "source": [
    "#### No sé bien para qué está la siguiente celda pero me da miedo borrarla, creo que estábamos probando algo en el momento"
   ]
  },
  {
   "cell_type": "code",
   "execution_count": 95,
   "metadata": {},
   "outputs": [
    {
     "name": "stdout",
     "output_type": "stream",
     "text": [
      "1.0 1.0 24.949977650181754 0.0 1.5707963267948966 112.67883659977747\n"
     ]
    }
   ],
   "source": [
    "F = 0\n",
    "a = np.sqrt(np.abs(F - 1 + e1*e1)/(1- e1*e1))\n",
    "b = np.sqrt((1+ 4*e1*e1 - F)/(1+ 4*e1*e1))\n",
    "\n",
    "alfa = a1/a2\n",
    "\n",
    "T1 = np.sqrt((a1**3)*4*pi*pi/(G*(m1+m2)))\n",
    "\n",
    "cte = 8*((m1 + m2)**2)/(3*(alfa**(7/2))*m1*m2*b)\n",
    "k = np.sqrt(1- (a/b)**2)\n",
    "\n",
    "K = sp.special.ellipk(k)\n",
    "\n",
    "f = cte*((1- e2**2)**2)*K*T1/(np.sqrt((1- e1**2)*(1+ 4*e1*e1)))\n",
    "\n",
    "print(a,b,T1,k,K,f/365.25)"
   ]
  },
  {
   "cell_type": "markdown",
   "metadata": {},
   "source": [
    "### Graficamos ambos P para ver cuánto difieren en F = 0"
   ]
  },
  {
   "cell_type": "code",
   "execution_count": 119,
   "metadata": {},
   "outputs": [],
   "source": [
    "F_cl = np.linspace(0,Fsep,500)\n",
    "F_ll = np.linspace(Fsep,1.2,500)\n",
    "\n",
    "P_cl = [Ph2_c(m1,e1,a1,m2,e2,a2,i)/365.25 for i in F_cl]\n",
    "\n",
    "P_ll = [Ph2_l(m1,e1,a1,m2,e2,a2,i)/365.25 for i in F_ll]"
   ]
  },
  {
   "cell_type": "code",
   "execution_count": 120,
   "metadata": {},
   "outputs": [
    {
     "data": {
      "image/png": "[encoded data removed]",
      "text/plain": [
       "<Figure size 720x576 with 1 Axes>"
      ]
     },
     "metadata": {
      "needs_background": "light"
     },
     "output_type": "display_data"
    },
    {
     "data": {
      "image/png": "[encoded data removed]",
      "text/plain": [
       "<Figure size 720x576 with 1 Axes>"
      ]
     },
     "metadata": {
      "needs_background": "light"
     },
     "output_type": "display_data"
    }
   ],
   "source": [
    "plt.figure(figsize=(10,8))\n",
    "\n",
    "# plt.plot(F_cl,P_cl,c='cornflowerblue')\n",
    "plt.plot(F_ll,P_ll,c='coral')\n",
    "\n",
    "# plt.ylim(10,1000)\n",
    "# plt.xlim(0,1.2)\n",
    "\n",
    "plt.xticks(fontsize=20)\n",
    "plt.yticks(fontsize=20)\n",
    "\n",
    "plt.grid(True)\n",
    "\n",
    "plt.yscale('log')    \n",
    "plt.show()\n",
    "\n",
    "plt.figure(figsize=(10,8))\n",
    "\n",
    "plt.plot(F_cl,P_cl,c='cornflowerblue')\n",
    "# plt.plot(F_ll,P_ll,c='coral')\n",
    "\n",
    "# plt.ylim(10,1000)\n",
    "# plt.xlim(0,1.2)\n",
    "\n",
    "plt.xticks(fontsize=20)\n",
    "plt.yticks(fontsize=20)\n",
    "\n",
    "plt.grid(True)\n",
    "\n",
    "plt.yscale('log')    \n",
    "plt.show()"
   ]
  },
  {
   "cell_type": "code",
   "execution_count": 123,
   "metadata": {},
   "outputs": [
    {
     "data": {
      "image/png": "[encoded data removed]",
      "text/plain": [
       "<Figure size 720x576 with 1 Axes>"
      ]
     },
     "metadata": {
      "needs_background": "light"
     },
     "output_type": "display_data"
    }
   ],
   "source": [
    "plt.figure(figsize=(10,8))\n",
    "\n",
    "plt.plot(F_cl,P_cl,c='cornflowerblue')\n",
    "plt.plot(F_ll,P_ll,c='coral')\n",
    "\n",
    "# plt.ylim(10,1000)\n",
    "plt.xlim(0.925,.95)\n",
    "\n",
    "plt.xticks(fontsize=20)\n",
    "plt.yticks(fontsize=20)\n",
    "\n",
    "plt.grid(True)\n",
    "\n",
    "plt.yscale('log')    \n",
    "plt.show()"
   ]
  },
  {
   "cell_type": "code",
   "execution_count": 116,
   "metadata": {},
   "outputs": [
    {
     "name": "stderr",
     "output_type": "stream",
     "text": [
      "/home/administrador/anaconda2/envs/venv/lib/python3.7/site-packages/ipykernel_launcher.py:13: RuntimeWarning: invalid value encountered in sqrt\n",
      "  del sys.path[0]\n",
      "/home/administrador/anaconda2/envs/venv/lib/python3.7/site-packages/ipykernel_launcher.py:17: RuntimeWarning: divide by zero encountered in double_scalars\n"
     ]
    },
    {
     "data": {
      "image/png": "[encoded data removed]",
      "text/plain": [
       "<Figure size 720x576 with 1 Axes>"
      ]
     },
     "metadata": {
      "needs_background": "light"
     },
     "output_type": "display_data"
    }
   ],
   "source": [
    "F_l = np.linspace(0,1.2,500000)\n",
    "\n",
    "P_cl = [Ph2_c(m1,e1,a1,m2,e2,a2,i)/365.25 for i in F_l]\n",
    "\n",
    "P_ll = [Ph2_l(m1,e1,a1,m2,e2,a2,i)/365.25 for i in F_l]\n",
    "\n",
    "plt.figure(figsize=(10,8))\n",
    "\n",
    "plt.plot(F_l,P_cl,c='cornflowerblue')\n",
    "plt.plot(F_l,P_ll,c='coral')\n",
    "\n",
    "plt.xticks(fontsize=20)\n",
    "plt.yticks(fontsize=20)\n",
    "\n",
    "plt.grid(True)\n",
    "\n",
    "plt.yscale('log')    \n",
    "plt.show()"
   ]
  }
 ],
 "metadata": {
  "kernelspec": {
   "display_name": "Python 2",
   "language": "python",
   "name": "python2"
  },
  "language_info": {
   "codemirror_mode": {
    "name": "ipython",
    "version": 2
   },
   "file_extension": ".py",
   "mimetype": "text/x-python",
   "name": "python",
   "nbconvert_exporter": "python",
   "pygments_lexer": "ipython2",
   "version": "2.7.15"
  }
 },
 "nbformat": 4,
 "nbformat_minor": 2
}
