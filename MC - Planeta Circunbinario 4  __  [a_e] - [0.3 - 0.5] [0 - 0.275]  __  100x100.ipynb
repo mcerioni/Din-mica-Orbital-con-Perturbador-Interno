{
 "cells": [
  {
   "cell_type": "markdown",
   "metadata": {},
   "source": [
    "# GRILLA DE NxN CONDICIONES INICIALES EN a Y e\n",
    "\n",
    "Sistema binario de estrellas de igual masa, con semieje de a = 0.1\n",
    "\n",
    "Planeta circunbinario, creo una grilla de condiciones iniciales para a y e, integro para cada punto de la grilla, y guardo la excentricidad máxima que alcanzó ese par de condiciones iniciales.\n",
    "\n",
    "a : [0.3 - 0.5]  N = 100\n",
    "\n",
    "e : [0 - 0.275]  M = 100"
   ]
  },
  {
   "cell_type": "code",
   "execution_count": 2,
   "metadata": {},
   "outputs": [],
   "source": [
    "import rebound\n",
    "import numpy as np\n",
    "import matplotlib.pyplot as plt\n",
    "from mpl_toolkits.axes_grid1 import make_axes_locatable\n",
    "\n",
    "pi = -4*np.arctan(-1)"
   ]
  },
  {
   "cell_type": "markdown",
   "metadata": {},
   "source": [
    "### PARÁMETROS"
   ]
  },
  {
   "cell_type": "code",
   "execution_count": 2,
   "metadata": {},
   "outputs": [],
   "source": [
    "N = 100                        # a\n",
    "M = 100                        # e\n",
    "\n",
    "a_ini = 0.3                    # extremos\n",
    "a_fin = 0.5                    # en a\n",
    "\n",
    "e_ini = 0.                     # extremos\n",
    "e_fin = 0.275                  # en e\n",
    "\n",
    "m0 = 0.5                       # masa de estrella primaria\n",
    "m1 = 0.5                       # masa de estrella secundaria\n",
    "m2 = 0.5e-3                    # masa del planeta\n",
    "\n",
    "a1 = 0.1                       # semieje entre estrellas"
   ]
  },
  {
   "cell_type": "markdown",
   "metadata": {},
   "source": [
    "### SIMULACIÓN"
   ]
  },
  {
   "cell_type": "code",
   "execution_count": 5,
   "metadata": {
    "scrolled": false
   },
   "outputs": [
    {
     "name": "stdout",
     "output_type": "stream",
     "text": [
      "100.0%\r"
     ]
    }
   ],
   "source": [
    "p = 0                          # parametro utilizado para el procentaje que se muestra mientras se corre el codigo\n",
    "\n",
    "f = []\n",
    "\n",
    "for a_ind in range(N):\n",
    "    \n",
    "    a_i = (a_ind/(N-1))*(a_fin-a_ini) + a_ini         # a : 0.1 -> 0.5\n",
    "    \n",
    "    \n",
    "    for e_ind in range(M):\n",
    "        \n",
    "        e_i = (e_ind/(N-1))*(e_fin-e_ini) + e_ini      # e : 0.1 -> 0.3\n",
    "        \n",
    "        sim = rebound.Simulation()\n",
    "\n",
    "        sim.add(m=0.5)                                           # primaria\n",
    "        sim.add(m=0.5,a=0.1,e=0.5,inc=0,l=0,Omega=0,pomega=0)    # secundaria\n",
    "        \n",
    "        sim.add(m=0.5e-3,a=a_i,e=e_i)                            # particula\n",
    "\n",
    "        # ---------------------- integramos\n",
    "\n",
    "        os = sim.calculate_orbits()\n",
    "        sim.integrator = \"whfast\" \n",
    "        sim.dt = 0.05 * os[0].P  # dt = 5% del periodo de la orbita mas chica\n",
    "        Nout = 300               # number of points to display\n",
    "        tmax = 2*365.25          # integrar por 2 yr\n",
    "        Nmoons = 2\n",
    "\n",
    "        ecc = np.zeros((Nmoons,Nout))\n",
    "\n",
    "        times = np.linspace(0.,tmax,Nout)\n",
    "        ps = sim.particles\n",
    "        \n",
    "        for i,time in enumerate(times):\n",
    "            \n",
    "            sim.integrate(time)\n",
    "            os = sim.calculate_orbits()\n",
    "            \n",
    "            ecc[1][i] = os[1].e                     # lista de excentricidades para esta particula\n",
    "            \n",
    "            if np.isnan(os[1].e) == True:\n",
    "                break\n",
    "        \n",
    "        p = p+1                                     #\n",
    "        perc = np.round((p/(N*M))*100,decimals=1)   #  porcentaje de progreso del programa\n",
    "        print(str(perc)+'%',end='\\r')               #\n",
    "        \n",
    "        sim.save(\"checkpoint.bin\")\n",
    "\n",
    "        f.append([a_ind,e_ind,np.max(ecc[1]),a_i,e_i])\n",
    "        \n",
    "open('test4.txt', 'w').close()\n",
    "np.savetxt('test4.txt',f,fmt=['%.1i','%4.1i','%6.4f','%6.4f','%6.4f'])"
   ]
  },
  {
   "cell_type": "markdown",
   "metadata": {},
   "source": [
    "#### Leer datos"
   ]
  },
  {
   "cell_type": "code",
   "execution_count": 3,
   "metadata": {},
   "outputs": [],
   "source": [
    "emax = np.genfromtxt('test4.txt',usecols=[2])\n",
    "\n",
    "emax = np.reshape(emax,[N,M])\n",
    "emax = np.transpose(emax)"
   ]
  },
  {
   "cell_type": "markdown",
   "metadata": {},
   "source": [
    "### RESONANCIA EN FUNCIÓN DE a (PARA EL EJE SUPERIOR DEL GRÁFICO)"
   ]
  },
  {
   "cell_type": "code",
   "execution_count": 4,
   "metadata": {},
   "outputs": [],
   "source": [
    "mu = (m0+m1)/(m0+m1+m2)      # razon de masas\n",
    "\n",
    "def res(a_l):\n",
    "    x_l = []\n",
    "    for i in a_l:\n",
    "        x = np.sqrt(((i/a1)**3)*mu)\n",
    "        x = np.round(x,decimals=1)\n",
    "        x_l.append(x)\n",
    "    return x_l"
   ]
  },
  {
   "cell_type": "markdown",
   "metadata": {},
   "source": [
    "### GRÁFICO"
   ]
  },
  {
   "cell_type": "code",
   "execution_count": 10,
   "metadata": {},
   "outputs": [
    {
     "data": {
      "image/png": "[encoded data removed]",
      "text/plain": [
       "<Figure size 576x576 with 3 Axes>"
      ]
     },
     "metadata": {
      "needs_background": "light"
     },
     "output_type": "display_data"
    }
   ],
   "source": [
    "plt.figure(figsize=(8*(N/M),8))      # tamaño del plot\n",
    "ax = plt.subplot(111)\n",
    "plt.xlabel('a',fontsize=20)          #  nombres de\n",
    "plt.ylabel('e',fontsize=20)          #  los ejes\n",
    "\n",
    "\n",
    "# LEEMOS LOS DATOS\n",
    "\n",
    "im = ax.imshow(np.log(emax),vmin=-2,vmax=0,origin='lower',aspect='auto',extent=[a_ini,a_fin,e_ini,e_fin],cmap=\"RdYlGn_r\")\n",
    "\n",
    "\n",
    "\n",
    "# RESONANCIAS A MOSTRAR EN EL EJE SUPERIOR\n",
    "\n",
    "N_res = 14                                # numero de resonancias a mostrar en el eje\n",
    "\n",
    "ax2 = plt.twiny()                        # eje de resonancias (superior)\n",
    "\n",
    "ax2_t = np.linspace(a_ini,a_fin,N_res)   # lista de \"a\" para las cuales quiero ver las resonancias \n",
    "ax2.set_xticks(ax2_t)                    # en que valores de \"a\" va a escribir las resonancias \n",
    "ax2.set_xticklabels(res(ax2_t))          # valor de las resonancias para la lista de a anterior\n",
    "ax2.set_xlim([a_ini,a_fin])              # es necesario\n",
    "\n",
    "ax2.set_xlabel('n1/n2',fontsize=20)      # nombre del eje\n",
    "\n",
    "for i in ax2_t:\n",
    "    ax.vlines(i,e_ini,e_fin,linestyles='dashed',color='yellow',alpha=0.5)\n",
    "\n",
    "# CONFIGURACION DE LA BARRA DE COLOR\n",
    "\n",
    "divider = make_axes_locatable(ax)                         #   crear la barra\n",
    "cax = divider.append_axes(\"right\", size=\"5%\", pad=0.05)   #   de colores a la derecha\n",
    "\n",
    "cb = plt.colorbar(im, cax=cax)\n",
    "cb.set_label('log(e_max)',fontsize=20)\n",
    "plt.show()"
   ]
  }
 ],
 "metadata": {
  "kernelspec": {
   "display_name": "Python 2",
   "language": "python",
   "name": "python2"
  },
  "language_info": {
   "codemirror_mode": {
    "name": "ipython",
    "version": 2
   },
   "file_extension": ".py",
   "mimetype": "text/x-python",
   "name": "python",
   "nbconvert_exporter": "python",
   "pygments_lexer": "ipython2",
   "version": "2.7.15"
  }
 },
 "nbformat": 4,
 "nbformat_minor": 2
}
